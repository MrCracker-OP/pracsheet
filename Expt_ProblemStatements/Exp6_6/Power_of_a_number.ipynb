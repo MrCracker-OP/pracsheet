{
 "cells": [
  {
   "cell_type": "markdown",
   "metadata": {
    "id": "YHmcKVrnSfpB"
   },
   "source": [
    "Power of a number"
   ]
  },
  {
   "cell_type": "code",
   "execution_count": null,
   "metadata": {
    "colab": {
     "base_uri": "https://localhost:8080/"
    },
    "id": "aiS8MJvESXhN",
    "outputId": "13cfc5fb-bd7b-49b7-8354-9418d8bbbae5"
   },
   "outputs": [
    {
     "name": "stdout",
     "output_type": "stream",
     "text": [
      "Enter the base: 3\n",
      "Enter the exponent: 4\n",
      "3 raised to the power of 4 is: 81\n"
     ]
    }
   ],
   "source": [
    "# Define the recursive function to calculate power\n",
    "def power(base, exp):\n",
    "    if exp == 0:\n",
    "        return 1\n",
    "    else:\n",
    "        return base * power(base, exp - 1)\n",
    "\n",
    "# Take two integer inputs from the user: the base and the exponent\n",
    "base = int(input(\"Enter the base: \"))\n",
    "exp = int(input(\"Enter the exponent: \"))\n",
    "\n",
    "# Display the result of the power calculation\n",
    "print(f\"{base} raised to the power of {exp} is: {power(base, exp)}\")\n"
   ]
  }
 ],
 "metadata": {
  "colab": {
   "provenance": []
  },
  "kernelspec": {
   "display_name": "Python 3",
   "name": "python3"
  },
  "language_info": {
   "name": "python"
  }
 },
 "nbformat": 4,
 "nbformat_minor": 0
}
