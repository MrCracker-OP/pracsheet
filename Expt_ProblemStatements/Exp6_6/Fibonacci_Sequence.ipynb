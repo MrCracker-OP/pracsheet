{
  "nbformat": 4,
  "nbformat_minor": 0,
  "metadata": {
    "colab": {
      "provenance": []
    },
    "kernelspec": {
      "name": "python3",
      "display_name": "Python 3"
    },
    "language_info": {
      "name": "python"
    }
  },
  "cells": [
    {
      "cell_type": "markdown",
      "source": [
        "Fibonacci Sequence"
      ],
      "metadata": {
        "id": "iVYaoydoDDak"
      }
    },
    {
      "cell_type": "markdown",
      "source": [
        "Explanation:\n",
        "fibonacci(n): This recursive function computes the nth Fibonacci number.\n",
        "\n",
        "Base Case: If n is 0 or 1, the function returns n because the first two Fibonacci numbers are 0 and 1.\n",
        "Recursive Case: For n > 1, it returns the sum of the previous two Fibonacci numbers, i.e., fibonacci(n - 1) + fibonacci(n - 2).\n",
        "User Input: The program asks the user to input the number of terms they want to generate in the Fibonacci sequence.\n",
        "\n",
        "Validation: The program checks if the input number of terms is positive. If it's not, it prompts the user to enter a positive integer.\n",
        "\n",
        "Output: The program then prints the Fibonacci sequence up to the specified number of terms."
      ],
      "metadata": {
        "id": "vpZG3V39DzeB"
      }
    },
    {
      "cell_type": "code",
      "execution_count": null,
      "metadata": {
        "colab": {
          "base_uri": "https://localhost:8080/"
        },
        "id": "VCg1CaHtBWRd",
        "outputId": "e7ef4e72-86c2-41de-8aa5-80ce2634aae8"
      },
      "outputs": [
        {
          "output_type": "stream",
          "name": "stdout",
          "text": [
            "Enter the number of terms: 6\n",
            "Fibonacci sequence:\n",
            "0 1 1 2 3 5 "
          ]
        }
      ],
      "source": [
        "# Define the recursive function to find the nth Fibonacci number\n",
        "def fibonacci(n):\n",
        "    if n <= 1:\n",
        "        return n\n",
        "    else:\n",
        "        return fibonacci(n - 1) + fibonacci(n - 2)\n",
        "\n",
        "# Take an integer input from the user representing the number of terms\n",
        "terms = int(input(\"Enter the number of terms: \"))\n",
        "\n",
        "# Check if the number of terms is valid\n",
        "if terms <= 0:\n",
        "    print(\"Please enter a positive integer.\")\n",
        "else:\n",
        "    print(\"Fibonacci sequence:\")\n",
        "    for i in range(terms):\n",
        "        print(fibonacci(i), end=\" \")\n"
      ]
    }
  ]
}