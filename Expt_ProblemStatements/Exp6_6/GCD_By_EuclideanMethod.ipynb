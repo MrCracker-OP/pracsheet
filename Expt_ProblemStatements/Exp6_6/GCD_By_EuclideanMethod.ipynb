{
  "nbformat": 4,
  "nbformat_minor": 0,
  "metadata": {
    "colab": {
      "provenance": []
    },
    "kernelspec": {
      "name": "python3",
      "display_name": "Python 3"
    },
    "language_info": {
      "name": "python"
    }
  },
  "cells": [
    {
      "cell_type": "markdown",
      "source": [
        "Explanation\n",
        "Base Case:\n",
        "if b == 0:\n",
        "The function checks if b is 0. If it is, the GCD is simply a because the GCD of any number and 0 is the number itself.\n",
        "Recursive Case:\n",
        "return gcd(b, a % b)\n",
        "If b is not 0, the function calls itself with b as the new a and the remainder of a divided by b (i.e., a % b) as the new b. This step reduces the problem size with each recursion."
      ],
      "metadata": {
        "id": "iCL-AaUJcwMo"
      }
    },
    {
      "cell_type": "code",
      "execution_count": null,
      "metadata": {
        "colab": {
          "base_uri": "https://localhost:8080/"
        },
        "id": "_IkxT813cuCc",
        "outputId": "079f04f1-0d9b-47f0-98d9-8aedf1d5841e"
      },
      "outputs": [
        {
          "output_type": "stream",
          "name": "stdout",
          "text": [
            "Enter the first number: 48\n",
            "Enter the second number: 18\n",
            "The GCD of 48 and 18 is: 6\n"
          ]
        }
      ],
      "source": [
        "# Define the recursive function to find GCD\n",
        "def gcd(a, b):\n",
        "    if b == 0:\n",
        "        return a\n",
        "    else:\n",
        "        return gcd(b, a % b)\n",
        "1\n",
        "# Take two integer inputs from the user\n",
        "num1 = int(input(\"Enter the first number: \"))\n",
        "num2 = int(input(\"Enter the second number: \"))\n",
        "\n",
        "# Display the GCD of the two numbers\n",
        "print(f\"The GCD of {num1} and {num2} is: {gcd(num1, num2)}\")\n"
      ]
    },
    {
      "cell_type": "markdown",
      "source": [
        "https://youtu.be/yHwneN6zJmU?si=_SwqLQBUhe5D5AbH\n",
        "\n",
        "Please see above video for GCD Calculation Using Euclidean method:"
      ],
      "metadata": {
        "id": "ZCAbymiFdXmz"
      }
    }
  ]
}