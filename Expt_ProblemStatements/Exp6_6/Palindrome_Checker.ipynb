{
 "cells": [
  {
   "cell_type": "markdown",
   "metadata": {
    "id": "_GKj1jegErkv"
   },
   "source": [
    "Palindrome Checker"
   ]
  },
  {
   "cell_type": "markdown",
   "metadata": {
    "id": "AbdQZ04NE1Um"
   },
   "source": [
    "Explanation:\n",
    "is_palindrome(s): This recursive function checks whether the string s is a palindrome.\n",
    "\n",
    "Base Case: If the string s is empty or has only one character, it is considered a palindrome.\n",
    "Recursive Case: The function checks if the first and last characters of the string are the same. If they are, it recursively checks the substring obtained by removing these two characters (s[1:-1]).\n",
    "Termination Condition: If at any point the first and last characters do not match, the function returns False.\n",
    "User Input: The program asks the user to input a string.\n",
    "\n",
    "Output: The program prints whether the input string is a palindrome based on the result from the is_palindrome function."
   ]
  },
  {
   "cell_type": "code",
   "execution_count": null,
   "metadata": {
    "colab": {
     "base_uri": "https://localhost:8080/"
    },
    "id": "VY8XZm58Dgrs",
    "outputId": "fdd1d4f9-c69f-465d-ee19-c0d394506d10"
   },
   "outputs": [
    {
     "name": "stdout",
     "output_type": "stream",
     "text": [
      "Enter a string: madam\n",
      "'madam' is a palindrome.\n"
     ]
    }
   ],
   "source": [
    "# Define the recursive function to check if the string is a palindrome\n",
    "def is_palindrome(s):\n",
    "    # Base case: if the string is empty or has one character, it's a palindrome\n",
    "    if len(s) <= 1:\n",
    "        return True\n",
    "    # Recursive case: check if the first and last characters are the same\n",
    "    elif s[0] == s[-1]:\n",
    "        # Recursively check the substring without the first and last characters\n",
    "        return is_palindrome(s[1:-1])\n",
    "    else:\n",
    "        return False\n",
    "\n",
    "# Take a string input from the user\n",
    "user_string = input(\"Enter a string: \")\n",
    "\n",
    "# Display whether the string is a palindrome\n",
    "if is_palindrome(user_string):\n",
    "    print(f\"'{user_string}' is a palindrome.\")\n",
    "else:\n",
    "    print(f\"'{user_string}' is not a palindrome.\")\n"
   ]
  }
 ],
 "metadata": {
  "colab": {
   "provenance": []
  },
  "kernelspec": {
   "display_name": "Python 3",
   "name": "python3"
  },
  "language_info": {
   "name": "python"
  }
 },
 "nbformat": 4,
 "nbformat_minor": 0
}
