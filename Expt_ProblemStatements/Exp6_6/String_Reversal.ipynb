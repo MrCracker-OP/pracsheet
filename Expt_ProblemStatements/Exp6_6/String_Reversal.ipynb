{
  "nbformat": 4,
  "nbformat_minor": 0,
  "metadata": {
    "colab": {
      "provenance": []
    },
    "kernelspec": {
      "name": "python3",
      "display_name": "Python 3"
    },
    "language_info": {
      "name": "python"
    }
  },
  "cells": [
    {
      "cell_type": "markdown",
      "source": [
        "String Reversal"
      ],
      "metadata": {
        "id": "NJYcAodtRep_"
      }
    },
    {
      "cell_type": "code",
      "execution_count": null,
      "metadata": {
        "colab": {
          "base_uri": "https://localhost:8080/"
        },
        "id": "T0coDyUfRVUK",
        "outputId": "7ac99fe2-7248-4693-831f-a4d1e224f7b3"
      },
      "outputs": [
        {
          "output_type": "stream",
          "name": "stdout",
          "text": [
            "Enter a string: hello\n",
            "The reversed string is: olleh\n"
          ]
        }
      ],
      "source": [
        "# Define the recursive function to reverse the string\n",
        "def reverse_string(s):\n",
        "    if len(s) == 0:\n",
        "        return s\n",
        "    else:\n",
        "        return s[-1] + reverse_string(s[:-1])\n",
        "\n",
        "# Take a string input from the user\n",
        "user_string = input(\"Enter a string: \")\n",
        "\n",
        "# Display the reversed string\n",
        "print(f\"The reversed string is: {reverse_string(user_string)}\")\n"
      ]
    }
  ]
}