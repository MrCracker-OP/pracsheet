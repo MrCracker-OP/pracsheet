{
  "nbformat": 4,
  "nbformat_minor": 0,
  "metadata": {
    "colab": {
      "provenance": []
    },
    "kernelspec": {
      "name": "python3",
      "display_name": "Python 3"
    },
    "language_info": {
      "name": "python"
    }
  },
  "cells": [
    {
      "cell_type": "markdown",
      "source": [
        "Sum of Digits"
      ],
      "metadata": {
        "id": "dzmoZs54PMeF"
      }
    },
    {
      "cell_type": "markdown",
      "source": [
        "Explanation:\n",
        "sum_of_digits(n):\n",
        "\n",
        "Base Case: If n is 0, the sum of its digits is 0.\n",
        "Recursive Case: The function adds the last digit of n (obtained using n % 10) to the sum of the digits of the remaining number (n // 10), effectively reducing the number with each recursive call.\n",
        "User Input: The program prompts the user to enter an integer.\n",
        "\n",
        "Output: The program prints the sum of the digits of the given integer by calling the sum_of_digits function."
      ],
      "metadata": {
        "id": "lLaF5VQKO8AP"
      }
    },
    {
      "cell_type": "markdown",
      "source": [
        "Breakdown:\n",
        "n % 10:\n",
        "\n",
        "This operation gives the last digit of the number n.\n",
        "For example, if n = 1234, then n % 10 would give 4, which is the last digit of 1234.\n",
        "n // 10:\n",
        "\n",
        "This operation removes the last digit from the number n.\n",
        "For example, if n = 1234, then n // 10 would give 123, which is the remaining part of the number after removing the last digit.\n",
        "sum_of_digits(n // 10):\n",
        "\n",
        "This is the recursive call that continues the process with the number that has the last digit removed. The recursion will continue until n is reduced to 0.\n",
        "n % 10 + sum_of_digits(n // 10):\n",
        "\n",
        "This adds the last digit of n to the sum of the digits of the remaining part of n."
      ],
      "metadata": {
        "id": "vxj6cGFAPRRI"
      }
    },
    {
      "cell_type": "code",
      "execution_count": null,
      "metadata": {
        "colab": {
          "base_uri": "https://localhost:8080/"
        },
        "id": "vM1mlCE7MRs1",
        "outputId": "f550299a-af72-410d-a19b-1edcd958f9b7"
      },
      "outputs": [
        {
          "output_type": "stream",
          "name": "stdout",
          "text": [
            "Enter an integer: 12345\n",
            "The sum of the digits of 12345 is: 15\n"
          ]
        }
      ],
      "source": [
        "# Define the recursive function to calculate the sum of the digits\n",
        "def sum_of_digits(n):\n",
        "    if n == 0:\n",
        "        return 0\n",
        "    else:\n",
        "        return n % 10 + sum_of_digits(n // 10)\n",
        "\n",
        "# Take an integer input from the user\n",
        "number = int(input(\"Enter an integer: \"))\n",
        "\n",
        "# Display the sum of the digits\n",
        "print(f\"The sum of the digits of {number} is: {sum_of_digits(number)}\")\n"
      ]
    }
  ]
}