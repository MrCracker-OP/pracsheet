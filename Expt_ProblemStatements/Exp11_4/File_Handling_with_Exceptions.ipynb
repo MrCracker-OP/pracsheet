{
  "nbformat": 4,
  "nbformat_minor": 0,
  "metadata": {
    "colab": {
      "provenance": []
    },
    "kernelspec": {
      "name": "python3",
      "display_name": "Python 3"
    },
    "language_info": {
      "name": "python"
    }
  },
  "cells": [
    {
      "cell_type": "markdown",
      "source": [
        "How it works:\n",
        "\n",
        "The function uses a try block to attempt to open and read the file.\n",
        "\n",
        "If the file does not exist, a FileNotFoundError is caught, and an appropriate message is returned.\n",
        "\n",
        "For any other exceptions (like permission issues), a general error message is returned, including the specific exception message for more context."
      ],
      "metadata": {
        "id": "5VzuzDdvHJFz"
      }
    },
    {
      "cell_type": "code",
      "execution_count": null,
      "metadata": {
        "id": "JMQksfl-C98n"
      },
      "outputs": [],
      "source": [
        "def read_file(file_path):\n",
        "    try:\n",
        "        with open(file_path, 'r') as file:\n",
        "            return file.read()\n",
        "    except FileNotFoundError:\n",
        "        return \"Error: The file does not exist.\"\n",
        "    except Exception as e:\n",
        "        return f\"Error: An unexpected error occurred. {str(e)}\"\n"
      ]
    },
    {
      "cell_type": "code",
      "source": [
        "read_file('/content/timeseries.csv')"
      ],
      "metadata": {
        "colab": {
          "base_uri": "https://localhost:8080/",
          "height": 35
        },
        "id": "10sclJFnDXv0",
        "outputId": "47dcde93-3530-4cd9-a726-a3e1dd8a871b"
      },
      "execution_count": null,
      "outputs": [
        {
          "output_type": "execute_result",
          "data": {
            "text/plain": [
              "'Error: The file does not exist.'"
            ],
            "application/vnd.google.colaboratory.intrinsic+json": {
              "type": "string"
            }
          },
          "metadata": {},
          "execution_count": 8
        }
      ]
    }
  ]
}