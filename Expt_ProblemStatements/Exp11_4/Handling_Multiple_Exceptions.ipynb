{
 "cells": [
  {
   "cell_type": "markdown",
   "metadata": {
    "id": "YTE6voFzOAER"
   },
   "source": [
    "Handling Multiple Exceptions"
   ]
  },
  {
   "cell_type": "markdown",
   "metadata": {
    "id": "011yYbAhN_7f"
   },
   "source": [
    "Python function process_data that processes a list of numbers with the specified requirements:\n",
    "\n",
    "How it works:\n",
    "\n",
    "Empty List Check: The function first checks if the list is empty using if not data:. If it is, the function returns \"No data to process.\"\n",
    "\n",
    "Try-Except Block: The function attempts to calculate the sum of the list and then divides it by the number of elements to find the average. If all elements are numeric, the average is returned.\n",
    "\n",
    "Handling Non-Numeric Data: If the list contains any non-numeric data, a TypeError is caught, and the function returns \"Invalid data in list.\"\n"
   ]
  },
  {
   "cell_type": "code",
   "execution_count": null,
   "metadata": {
    "id": "jSlzt3E7Mjvg"
   },
   "outputs": [],
   "source": [
    "def process_data(data):\n",
    "    if not data:\n",
    "        return \"No data to process.\"\n",
    "\n",
    "    try:\n",
    "        total = sum(data)\n",
    "        average = total / len(data)\n",
    "        return average\n",
    "    except TypeError:\n",
    "        return \"Invalid data in list.\"\n"
   ]
  },
  {
   "cell_type": "code",
   "execution_count": null,
   "metadata": {
    "colab": {
     "base_uri": "https://localhost:8080/"
    },
    "id": "zkVVvfGjM9UR",
    "outputId": "1b848290-6483-4169-ff51-8d5391c75538"
   },
   "outputs": [
    {
     "data": {
      "text/plain": [
       "3.0"
      ]
     },
     "execution_count": 2,
     "metadata": {},
     "output_type": "execute_result"
    }
   ],
   "source": [
    "List1 = [1,2,3,4,5]\n",
    "process_data(List1)"
   ]
  },
  {
   "cell_type": "code",
   "execution_count": null,
   "metadata": {
    "colab": {
     "base_uri": "https://localhost:8080/",
     "height": 35
    },
    "id": "BfVhfHFLNob0",
    "outputId": "4bb6521f-74c5-4298-9e8b-6da4bc1cd88c"
   },
   "outputs": [
    {
     "data": {
      "application/vnd.google.colaboratory.intrinsic+json": {
       "type": "string"
      },
      "text/plain": [
       "'No data to process.'"
      ]
     },
     "execution_count": 3,
     "metadata": {},
     "output_type": "execute_result"
    }
   ],
   "source": [
    "List2 = []\n",
    "process_data(List2)"
   ]
  },
  {
   "cell_type": "code",
   "execution_count": null,
   "metadata": {
    "colab": {
     "base_uri": "https://localhost:8080/",
     "height": 35
    },
    "id": "NkSlZmLwNoht",
    "outputId": "7514578b-fb67-46c5-e4d1-32f914be11bb"
   },
   "outputs": [
    {
     "data": {
      "application/vnd.google.colaboratory.intrinsic+json": {
       "type": "string"
      },
      "text/plain": [
       "'Invalid data in list.'"
      ]
     },
     "execution_count": 4,
     "metadata": {},
     "output_type": "execute_result"
    }
   ],
   "source": [
    "List1 = [1,2,3,\"A\",5]\n",
    "process_data(List1)"
   ]
  }
 ],
 "metadata": {
  "colab": {
   "provenance": []
  },
  "kernelspec": {
   "display_name": "Python 3",
   "name": "python3"
  },
  "language_info": {
   "name": "python"
  }
 },
 "nbformat": 4,
 "nbformat_minor": 0
}
