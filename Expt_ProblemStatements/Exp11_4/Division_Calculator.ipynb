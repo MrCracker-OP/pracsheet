{
 "cells": [
  {
   "cell_type": "markdown",
   "metadata": {
    "id": "7kQMH6E8Ievd"
   },
   "source": [
    "Division Calculator"
   ]
  },
  {
   "cell_type": "markdown",
   "metadata": {
    "id": "XrfJwgz0IYtO"
   },
   "source": [
    "How it works:\n",
    "\n",
    "The function attempts to divide a by b inside a try block.\n",
    "\n",
    "If b is zero, a ZeroDivisionError is caught, and the function returns \"Cannot divide by zero.\"\n",
    "\n",
    "If either a or b is not a number, a TypeError is caught, and the function returns \"Invalid input type. Both inputs must be numbers.\""
   ]
  },
  {
   "cell_type": "code",
   "execution_count": null,
   "metadata": {
    "id": "NDA6AL4XHVHF"
   },
   "outputs": [],
   "source": [
    "def divide_numbers(a, b):\n",
    "    try:\n",
    "        return a / b\n",
    "    except ZeroDivisionError:\n",
    "        return \"Cannot divide by zero.\"\n",
    "    except TypeError:\n",
    "        return \"Invalid input type. Both inputs must be numbers.\"\n"
   ]
  },
  {
   "cell_type": "code",
   "execution_count": null,
   "metadata": {
    "colab": {
     "base_uri": "https://localhost:8080/"
    },
    "id": "29hCm82-HxUu",
    "outputId": "db6410b8-4247-4de6-d5bf-3870ede24211"
   },
   "outputs": [
    {
     "data": {
      "text/plain": [
       "2.0"
      ]
     },
     "execution_count": 2,
     "metadata": {},
     "output_type": "execute_result"
    }
   ],
   "source": [
    "divide_numbers(6, 3)"
   ]
  },
  {
   "cell_type": "code",
   "execution_count": null,
   "metadata": {
    "colab": {
     "base_uri": "https://localhost:8080/",
     "height": 35
    },
    "id": "WHidgppOHxb0",
    "outputId": "5ba63c25-cf0e-49a2-9534-157ddc4ce421"
   },
   "outputs": [
    {
     "data": {
      "application/vnd.google.colaboratory.intrinsic+json": {
       "type": "string"
      },
      "text/plain": [
       "'Cannot divide by zero.'"
      ]
     },
     "execution_count": 3,
     "metadata": {},
     "output_type": "execute_result"
    }
   ],
   "source": [
    "divide_numbers(6, 0)"
   ]
  },
  {
   "cell_type": "code",
   "execution_count": null,
   "metadata": {
    "colab": {
     "base_uri": "https://localhost:8080/",
     "height": 35
    },
    "id": "1JkOav5iHxhv",
    "outputId": "0bc661d8-7815-4a70-a8ff-79aeb8b972d8"
   },
   "outputs": [
    {
     "data": {
      "application/vnd.google.colaboratory.intrinsic+json": {
       "type": "string"
      },
      "text/plain": [
       "'Invalid input type. Both inputs must be numbers.'"
      ]
     },
     "execution_count": 6,
     "metadata": {},
     "output_type": "execute_result"
    }
   ],
   "source": [
    "divide_numbers(6,'A')"
   ]
  }
 ],
 "metadata": {
  "colab": {
   "provenance": []
  },
  "kernelspec": {
   "display_name": "Python 3",
   "name": "python3"
  },
  "language_info": {
   "name": "python"
  }
 },
 "nbformat": 4,
 "nbformat_minor": 0
}
