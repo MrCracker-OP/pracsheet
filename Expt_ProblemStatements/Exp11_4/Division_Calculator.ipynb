{
  "nbformat": 4,
  "nbformat_minor": 0,
  "metadata": {
    "colab": {
      "provenance": []
    },
    "kernelspec": {
      "name": "python3",
      "display_name": "Python 3"
    },
    "language_info": {
      "name": "python"
    }
  },
  "cells": [
    {
      "cell_type": "markdown",
      "source": [
        "Division Calculator"
      ],
      "metadata": {
        "id": "7kQMH6E8Ievd"
      }
    },
    {
      "cell_type": "markdown",
      "source": [
        "How it works:\n",
        "\n",
        "The function attempts to divide a by b inside a try block.\n",
        "\n",
        "If b is zero, a ZeroDivisionError is caught, and the function returns \"Cannot divide by zero.\"\n",
        "\n",
        "If either a or b is not a number, a TypeError is caught, and the function returns \"Invalid input type. Both inputs must be numbers.\""
      ],
      "metadata": {
        "id": "XrfJwgz0IYtO"
      }
    },
    {
      "cell_type": "code",
      "execution_count": null,
      "metadata": {
        "id": "NDA6AL4XHVHF"
      },
      "outputs": [],
      "source": [
        "def divide_numbers(a, b):\n",
        "    try:\n",
        "        return a / b\n",
        "    except ZeroDivisionError:\n",
        "        return \"Cannot divide by zero.\"\n",
        "    except TypeError:\n",
        "        return \"Invalid input type. Both inputs must be numbers.\"\n"
      ]
    },
    {
      "cell_type": "code",
      "source": [
        "divide_numbers(6, 3)"
      ],
      "metadata": {
        "colab": {
          "base_uri": "https://localhost:8080/"
        },
        "id": "29hCm82-HxUu",
        "outputId": "db6410b8-4247-4de6-d5bf-3870ede24211"
      },
      "execution_count": null,
      "outputs": [
        {
          "output_type": "execute_result",
          "data": {
            "text/plain": [
              "2.0"
            ]
          },
          "metadata": {},
          "execution_count": 2
        }
      ]
    },
    {
      "cell_type": "code",
      "source": [
        "divide_numbers(6, 0)"
      ],
      "metadata": {
        "colab": {
          "base_uri": "https://localhost:8080/",
          "height": 35
        },
        "id": "WHidgppOHxb0",
        "outputId": "5ba63c25-cf0e-49a2-9534-157ddc4ce421"
      },
      "execution_count": null,
      "outputs": [
        {
          "output_type": "execute_result",
          "data": {
            "text/plain": [
              "'Cannot divide by zero.'"
            ],
            "application/vnd.google.colaboratory.intrinsic+json": {
              "type": "string"
            }
          },
          "metadata": {},
          "execution_count": 3
        }
      ]
    },
    {
      "cell_type": "code",
      "source": [
        "divide_numbers(6,'A')"
      ],
      "metadata": {
        "colab": {
          "base_uri": "https://localhost:8080/",
          "height": 35
        },
        "id": "1JkOav5iHxhv",
        "outputId": "0bc661d8-7815-4a70-a8ff-79aeb8b972d8"
      },
      "execution_count": null,
      "outputs": [
        {
          "output_type": "execute_result",
          "data": {
            "text/plain": [
              "'Invalid input type. Both inputs must be numbers.'"
            ],
            "application/vnd.google.colaboratory.intrinsic+json": {
              "type": "string"
            }
          },
          "metadata": {},
          "execution_count": 6
        }
      ]
    }
  ]
}