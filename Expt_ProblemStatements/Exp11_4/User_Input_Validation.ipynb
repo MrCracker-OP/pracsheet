{
  "nbformat": 4,
  "nbformat_minor": 0,
  "metadata": {
    "colab": {
      "provenance": []
    },
    "kernelspec": {
      "name": "python3",
      "display_name": "Python 3"
    },
    "language_info": {
      "name": "python"
    }
  },
  "cells": [
    {
      "cell_type": "markdown",
      "source": [
        "User Input Validation"
      ],
      "metadata": {
        "id": "LfSJt_WrMF2o"
      }
    },
    {
      "cell_type": "markdown",
      "source": [
        "It repeatedly asks the user for an integer input until a valid integer is provided.\n",
        "\n",
        "How it works:\n",
        "\n",
        "The function enters an infinite loop (while True), continuously asking the user for input using the provided prompt.\n",
        "\n",
        "The input() is converted to an integer using int(). If the input is a valid integer, the function returns the integer, and the loop exits.\n",
        "\n",
        "If the user enters a non-integer, a ValueError is caught, and the function prints an error message and prompts the user again."
      ],
      "metadata": {
        "id": "O3tobj6FMFuM"
      }
    },
    {
      "source": [
        "def get_integer_input(prompt):\n",
        "    while True:\n",
        "        try:\n",
        "            return int(input(prompt))\n",
        "        except ValueError:\n",
        "            print(\"Invalid input. Please enter a valid integer.\")\n",
        "\n",
        "# Define the prompt you want to use\n",
        "prompt = \"Enter an integer: \"\n",
        "\n",
        "# Now call the function with the defined prompt\n",
        "get_integer_input(prompt)"
      ],
      "cell_type": "code",
      "metadata": {
        "colab": {
          "base_uri": "https://localhost:8080/"
        },
        "id": "QY6hsLI7LZ7g",
        "outputId": "844351f7-4030-4679-cf1b-ad5ec7d7636d"
      },
      "execution_count": null,
      "outputs": [
        {
          "name": "stdout",
          "output_type": "stream",
          "text": [
            "Enter an integer: A\n",
            "Invalid input. Please enter a valid integer.\n",
            "Enter an integer: 10\n"
          ]
        },
        {
          "output_type": "execute_result",
          "data": {
            "text/plain": [
              "10"
            ]
          },
          "metadata": {},
          "execution_count": 13
        }
      ]
    }
  ]
}