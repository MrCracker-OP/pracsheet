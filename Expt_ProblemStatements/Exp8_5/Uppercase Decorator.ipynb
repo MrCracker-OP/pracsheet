{
 "cells": [
  {
   "cell_type": "markdown",
   "metadata": {
    "id": "RFvqZaU3DFht"
   },
   "source": [
    "Explanation:\n",
    "\n",
    "The to_uppercase decorator defines a wrapper function around the original function.\n",
    "\n",
    "Inside the wrapper, the original function (func()) is called, and its result is converted to uppercase using .upper().\n",
    "\n",
    "The decorator is applied to the greet function using the @to_uppercase syntax.\n",
    "\n",
    "When greet() is called, the string is automatically converted to uppercase by the decorator."
   ]
  },
  {
   "cell_type": "code",
   "execution_count": 7,
   "metadata": {
    "colab": {
     "base_uri": "https://localhost:8080/"
    },
    "executionInfo": {
     "elapsed": 440,
     "status": "ok",
     "timestamp": 1725688409901,
     "user": {
      "displayName": "Mangal Dandekar",
      "userId": "12136019235932552125"
     },
     "user_tz": -330
    },
    "id": "sz84PuzBA57w",
    "outputId": "4e7cc5fd-d6d9-4147-ec1a-4d8495629442"
   },
   "outputs": [
    {
     "name": "stdout",
     "output_type": "stream",
     "text": [
      "HELLO, WELCOME TO PYTHON DECORATORS!\n"
     ]
    }
   ],
   "source": [
    "# Define the decorator to convert the result to uppercase\n",
    "def to_uppercase(func):\n",
    "    def wrapper():\n",
    "        result = func()\n",
    "        return result.upper()  # Convert the result to uppercase\n",
    "    return wrapper\n",
    "\n",
    "# Apply the decorator to a function that returns a string\n",
    "@to_uppercase\n",
    "def greet():\n",
    "    return \"Hello, welcome to Python decorators!\"\n",
    "\n",
    "# Call the decorated function and display the result\n",
    "result = greet()\n",
    "print(result)\n",
    "\n"
   ]
  }
 ],
 "metadata": {
  "colab": {
   "authorship_tag": "ABX9TyP4bbQtW4BOhAjc45HVl8e+",
   "provenance": []
  },
  "kernelspec": {
   "display_name": "Python 3",
   "name": "python3"
  },
  "language_info": {
   "name": "python"
  }
 },
 "nbformat": 4,
 "nbformat_minor": 0
}
