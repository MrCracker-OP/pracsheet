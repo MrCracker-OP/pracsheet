{
 "cells": [
  {
   "cell_type": "markdown",
   "metadata": {
    "id": "HPzNhItmE9u9"
   },
   "source": [
    "Explanation:\n",
    "\n",
    "The add_greeting decorator defines a wrapper function that prints \"Hello!\" before calling the original function (func(name)).\n",
    "\n",
    "The decorator is applied to the print_name function using the @add_greeting syntax.\n",
    "\n",
    "When print_name(\"Alice\") is called, the decorator first prints \"Hello!\", then the name is printed."
   ]
  },
  {
   "cell_type": "code",
   "execution_count": 1,
   "metadata": {
    "colab": {
     "base_uri": "https://localhost:8080/"
    },
    "executionInfo": {
     "elapsed": 1510,
     "status": "ok",
     "timestamp": 1725688948514,
     "user": {
      "displayName": "Mangal Dandekar",
      "userId": "12136019235932552125"
     },
     "user_tz": -330
    },
    "id": "uhXRzIjtE0qm",
    "outputId": "da00689a-da1d-49ac-b18b-b43fb9e764a2"
   },
   "outputs": [
    {
     "name": "stdout",
     "output_type": "stream",
     "text": [
      "Hello!\n",
      "My name is Alice\n"
     ]
    }
   ],
   "source": [
    "# Define the decorator to add a greeting message\n",
    "def add_greeting(func):\n",
    "    def wrapper(name):\n",
    "        print(\"Hello!\")  # Print greeting before executing the function\n",
    "        func(name)  # Execute the original function\n",
    "    return wrapper\n",
    "\n",
    "# Apply the decorator to a function that prints the user's name\n",
    "@add_greeting\n",
    "def print_name(name):\n",
    "    print(f\"My name is {name}\")\n",
    "\n",
    "# Call the decorated function with a sample name\n",
    "print_name(\"Alice\")\n"
   ]
  }
 ],
 "metadata": {
  "colab": {
   "authorship_tag": "ABX9TyOqBvPZcKmSjiXJDjVxDL3A",
   "provenance": []
  },
  "kernelspec": {
   "display_name": "Python 3",
   "name": "python3"
  },
  "language_info": {
   "name": "python"
  }
 },
 "nbformat": 4,
 "nbformat_minor": 0
}
