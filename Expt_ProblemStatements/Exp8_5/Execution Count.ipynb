{
 "cells": [
  {
   "cell_type": "markdown",
   "metadata": {
    "id": "5Vfdluf3G8lU"
   },
   "source": [
    "Explanation:\n",
    "\n",
    "The count_calls decorator defines a counter count_calls.counter and increments it each time the wrapped function is called.\n",
    "\n",
    "The wrapper function prints how many times the function has been called, then executes the original function.\n",
    "\n",
    "The decorator is applied to the display_message function using the @count_calls syntax.\n",
    "\n",
    "Each time display_message() is called, the count is updated and printed."
   ]
  },
  {
   "cell_type": "code",
   "execution_count": 1,
   "metadata": {
    "colab": {
     "base_uri": "https://localhost:8080/"
    },
    "executionInfo": {
     "elapsed": 1724,
     "status": "ok",
     "timestamp": 1725689565092,
     "user": {
      "displayName": "Mangal Dandekar",
      "userId": "12136019235932552125"
     },
     "user_tz": -330
    },
    "id": "XHFDAB9-Gldz",
    "outputId": "d9b7d58b-4732-4e7f-948a-aa1e68cbd10c"
   },
   "outputs": [
    {
     "name": "stdout",
     "output_type": "stream",
     "text": [
      "Function 'display_message' has been called 1 time(s)\n",
      "This is a sample message.\n",
      "Function 'display_message' has been called 2 time(s)\n",
      "This is a sample message.\n",
      "Function 'display_message' has been called 3 time(s)\n",
      "This is a sample message.\n"
     ]
    }
   ],
   "source": [
    "# Define the decorator to count function calls\n",
    "def count_calls(func):\n",
    "    count_calls.counter = 0  # Initialize the counter\n",
    "\n",
    "    def wrapper():\n",
    "        count_calls.counter += 1  # Increment the counter each time the function is called\n",
    "        print(f\"Function '{func.__name__}' has been called {count_calls.counter} time(s)\")\n",
    "        func()  # Execute the original function\n",
    "    return wrapper\n",
    "\n",
    "# Apply the decorator to a function that prints a message\n",
    "@count_calls\n",
    "def display_message():\n",
    "    print(\"This is a sample message.\")\n",
    "\n",
    "# Call the decorated function multiple times\n",
    "display_message()\n",
    "display_message()\n",
    "display_message()\n"
   ]
  }
 ],
 "metadata": {
  "colab": {
   "authorship_tag": "ABX9TyNRm1TuiCONTF9t+PAXgr43",
   "provenance": []
  },
  "kernelspec": {
   "display_name": "Python 3",
   "name": "python3"
  },
  "language_info": {
   "name": "python"
  }
 },
 "nbformat": 4,
 "nbformat_minor": 0
}
