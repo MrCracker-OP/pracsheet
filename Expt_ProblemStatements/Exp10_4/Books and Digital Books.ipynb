{
 "cells": [
  {
   "cell_type": "markdown",
   "metadata": {
    "id": "o0Hwt7J7Hliu"
   },
   "source": [
    "Here’s a Python implementation of a base class Book with a derived class EBook.\n",
    "\n",
    "The EBook class adds an attribute for file size and overrides the get_info() method to include this information."
   ]
  },
  {
   "cell_type": "markdown",
   "metadata": {
    "id": "SmhDJUaVHlaC"
   },
   "source": [
    "Explanation:\n",
    "\n",
    "Book class:\n",
    "\n",
    "Has two attributes: title and author.\n",
    "The method get_info() returns the title and author of the book in a formatted string.\n",
    "\n",
    "EBook class:\n",
    "\n",
    "Inherits from Book and adds an additional attribute file_size.\n",
    "Overrides the get_info() method to return the title, author, and file size of the ebook."
   ]
  },
  {
   "cell_type": "code",
   "execution_count": 1,
   "metadata": {
    "colab": {
     "base_uri": "https://localhost:8080/"
    },
    "executionInfo": {
     "elapsed": 479,
     "status": "ok",
     "timestamp": 1725707260231,
     "user": {
      "displayName": "Mangal Dandekar",
      "userId": "12136019235932552125"
     },
     "user_tz": -330
    },
    "id": "m3fd8D3XKqz9",
    "outputId": "564f3ff2-a9c5-4a60-8fdb-f4e15bbc099e"
   },
   "outputs": [
    {
     "name": "stdout",
     "output_type": "stream",
     "text": [
      "Title: The Great Gatsby, Author: F. Scott Fitzgerald\n",
      "Title: 1984, Author: George Orwell, File Size: 2 MB\n"
     ]
    }
   ],
   "source": [
    "# Base class: Book\n",
    "class Book:\n",
    "    def __init__(self, title, author):\n",
    "        self.title = title\n",
    "        self.author = author\n",
    "\n",
    "    # Method to return book's info\n",
    "    def get_info(self):\n",
    "        return f\"Title: {self.title}, Author: {self.author}\"\n",
    "\n",
    "# Derived class: EBook\n",
    "class EBook(Book):\n",
    "    def __init__(self, title, author, file_size):\n",
    "        super().__init__(title, author)  # Initialize title and author from the base class\n",
    "        self.file_size = file_size  # Additional attribute for EBook\n",
    "\n",
    "    # Override get_info method to include file size\n",
    "    def get_info(self):\n",
    "        return f\"Title: {self.title}, Author: {self.author}, File Size: {self.file_size} MB\"\n",
    "\n",
    "# Example usage\n",
    "book = Book(\"The Great Gatsby\", \"F. Scott Fitzgerald\")\n",
    "ebook = EBook(\"1984\", \"George Orwell\", 2)\n",
    "\n",
    "# Printing book details\n",
    "print(book.get_info())   # Output: Title: The Great Gatsby, Author: F. Scott Fitzgerald\n",
    "print(ebook.get_info())  # Output: Title: 1984, Author: George Orwell, File Size: 2 MB\n"
   ]
  }
 ],
 "metadata": {
  "colab": {
   "authorship_tag": "ABX9TyNhr2/4CLWQkomh3E/uaGsq",
   "provenance": []
  },
  "kernelspec": {
   "display_name": "Python 3",
   "name": "python3"
  },
  "language_info": {
   "name": "python"
  }
 },
 "nbformat": 4,
 "nbformat_minor": 0
}
