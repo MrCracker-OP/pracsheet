{
 "cells": [
  {
   "cell_type": "markdown",
   "metadata": {
    "id": "6V4X-e-PGtWW"
   },
   "source": [
    "Here’s a Python implementation of the scenario where we have a base class Employee and a derived class Manager.\n",
    "\n",
    "The derived class overrides the get_details() method to include department information."
   ]
  },
  {
   "cell_type": "markdown",
   "metadata": {
    "id": "im72ok0hGs_Q"
   },
   "source": [
    "Explanation:\n",
    "\n",
    "Employee class:\n",
    "Has two attributes: name and salary.\n",
    "\n",
    "Provides a method get_details() that returns the employee's details in the format \"Name: Name, Salary: Salary\".\n",
    "\n",
    "Manager class:\n",
    "Inherits from the Employee class and adds an additional attribute for department.\n",
    "\n",
    "Overrides the get_details() method to include the department information, returning a string in the format \"Name: Name, Salary: Salary, Department: Department\"."
   ]
  },
  {
   "cell_type": "code",
   "execution_count": 1,
   "metadata": {
    "colab": {
     "base_uri": "https://localhost:8080/"
    },
    "executionInfo": {
     "elapsed": 693,
     "status": "ok",
     "timestamp": 1725706192175,
     "user": {
      "displayName": "Mangal Dandekar",
      "userId": "12136019235932552125"
     },
     "user_tz": -330
    },
    "id": "j4Xk9kRgFBoS",
    "outputId": "0e9e846f-42f9-4f8e-802f-a660586ebbbb"
   },
   "outputs": [
    {
     "name": "stdout",
     "output_type": "stream",
     "text": [
      "Name: Alice, Salary: 50000\n",
      "Name: Bob, Salary: 80000, Department: Sales\n"
     ]
    }
   ],
   "source": [
    "# Base class: Employee\n",
    "class Employee:\n",
    "    def __init__(self, name, salary):\n",
    "        self.name = name\n",
    "        self.salary = salary\n",
    "\n",
    "    def get_details(self):\n",
    "        return f\"Name: {self.name}, Salary: {self.salary}\"\n",
    "\n",
    "# Derived class: Manager\n",
    "class Manager(Employee):\n",
    "    def __init__(self, name, salary, department):\n",
    "        super().__init__(name, salary)  # Initialize the base class attributes\n",
    "        self.department = department\n",
    "\n",
    "    # Override the get_details method\n",
    "    def get_details(self):\n",
    "        return f\"Name: {self.name}, Salary: {self.salary}, Department: {self.department}\"\n",
    "\n",
    "# Example usage\n",
    "employee = Employee(\"Alice\", 50000)\n",
    "manager = Manager(\"Bob\", 80000, \"Sales\")\n",
    "\n",
    "# Printing details\n",
    "print(employee.get_details())  # Output: Name: Alice, Salary: 50000\n",
    "print(manager.get_details())   # Output: Name: Bob, Salary: 80000, Department: Sales\n"
   ]
  }
 ],
 "metadata": {
  "colab": {
   "authorship_tag": "ABX9TyO0DCHZmLg0nzAw5NCoDxOh",
   "provenance": []
  },
  "kernelspec": {
   "display_name": "Python 3",
   "name": "python3"
  },
  "language_info": {
   "name": "python"
  }
 },
 "nbformat": 4,
 "nbformat_minor": 0
}
