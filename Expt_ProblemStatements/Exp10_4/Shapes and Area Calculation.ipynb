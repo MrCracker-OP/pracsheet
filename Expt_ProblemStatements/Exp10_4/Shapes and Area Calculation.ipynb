{
 "cells": [
  {
   "cell_type": "markdown",
   "metadata": {
    "id": "ahLDP4hqFCS1"
   },
   "source": [
    "Here is the solution that demonstrates inheritance and polymorphism with the Shape base class and its derived classes Circle and Rectangle. The print_area function will print the area of the shape based on which type of object (Circle or Rectangle) is passed:"
   ]
  },
  {
   "cell_type": "markdown",
   "metadata": {
    "id": "xlnliaszFLp_"
   },
   "source": [
    "Explanation:\n",
    "\n",
    "Shape class: The base class with an abstract area() method, which will be overridden by derived classes.\n",
    "\n",
    "Circle class: Inherits from Shape and overrides the area() method to calculate the area of a circle using the formula\n",
    "𝜋\n",
    "×\n",
    "radius\n",
    "2\n",
    "\n",
    "Rectangle class: Inherits from Shape and overrides the area() method to calculate the area using the formula\n",
    "width\n",
    "×\n",
    "height\n",
    "\n",
    "\n",
    "print_area function: Demonstrates polymorphism by accepting a Shape object and calling its area() method, whether it's a circle or a rectangle."
   ]
  },
  {
   "cell_type": "code",
   "execution_count": 1,
   "metadata": {
    "colab": {
     "base_uri": "https://localhost:8080/"
    },
    "executionInfo": {
     "elapsed": 672,
     "status": "ok",
     "timestamp": 1725705941846,
     "user": {
      "displayName": "Mangal Dandekar",
      "userId": "12136019235932552125"
     },
     "user_tz": -330
    },
    "id": "A5pkYlcaE_rU",
    "outputId": "4d7cf0fb-f65b-4bf8-8c83-0ea84682ddea"
   },
   "outputs": [
    {
     "name": "stdout",
     "output_type": "stream",
     "text": [
      "The area is: 153.93804002589985\n",
      "The area is: 32\n"
     ]
    }
   ],
   "source": [
    "import math\n",
    "\n",
    "# Base class: Shape\n",
    "class Shape:\n",
    "    def area(self):\n",
    "        pass  # To be overridden by derived classes\n",
    "\n",
    "# Derived class: Circle\n",
    "class Circle(Shape):\n",
    "    def __init__(self, radius):\n",
    "        self.radius = radius\n",
    "\n",
    "    def area(self):\n",
    "        return math.pi * (self.radius ** 2)\n",
    "\n",
    "# Derived class: Rectangle\n",
    "class Rectangle(Shape):\n",
    "    def __init__(self, width, height):\n",
    "        self.width = width\n",
    "        self.height = height\n",
    "\n",
    "    def area(self):\n",
    "        return self.width * self.height\n",
    "\n",
    "# Function to print the area\n",
    "def print_area(shape):\n",
    "    print(f\"The area is: {shape.area()}\")\n",
    "\n",
    "# Demonstrating polymorphism\n",
    "circle = Circle(7)\n",
    "rectangle = Rectangle(4, 8)\n",
    "\n",
    "print_area(circle)   # Prints the area of the circle\n",
    "print_area(rectangle) # Prints the area of the rectangle\n"
   ]
  }
 ],
 "metadata": {
  "colab": {
   "authorship_tag": "ABX9TyNPrOHYLX/WeI5v9NtRqJf6",
   "provenance": []
  },
  "kernelspec": {
   "display_name": "Python 3",
   "name": "python3"
  },
  "language_info": {
   "name": "python"
  }
 },
 "nbformat": 4,
 "nbformat_minor": 0
}
