{
 "cells": [
  {
   "cell_type": "markdown",
   "metadata": {
    "id": "7nLELm1LHPdW"
   },
   "source": [
    "Here is a Python solution that demonstrates how to create a base class Vehicle with derived classes Car and Truck.\n",
    "\n",
    "These derived classes override the fuel_efficiency() method to return specific values.\n",
    "\n",
    "Polymorphism is demonstrated through the print_fuel_efficiency() function."
   ]
  },
  {
   "cell_type": "markdown",
   "metadata": {
    "id": "nUhHefwmHPU5"
   },
   "source": [
    "Explanation:\n",
    "\n",
    "Vehicle class:\n",
    "\n",
    "Contains an attribute fuel_capacity and a method fuel_efficiency() that is meant to be overridden by derived classes.\n",
    "\n",
    "Car class:\n",
    "Inherits from Vehicle and overrides the fuel_efficiency() method to return a value of 30 MPG.\n",
    "\n",
    "Truck class:\n",
    "Inherits from Vehicle and overrides the fuel_efficiency() method to return a value of 15 MPG.\n",
    "\n",
    "print_fuel_efficiency():\n",
    "This function takes any Vehicle object and prints its fuel efficiency using polymorphism. It works for both Car and Truck objects."
   ]
  },
  {
   "cell_type": "code",
   "execution_count": 1,
   "metadata": {
    "colab": {
     "base_uri": "https://localhost:8080/"
    },
    "executionInfo": {
     "elapsed": 434,
     "status": "ok",
     "timestamp": 1725706568129,
     "user": {
      "displayName": "Mangal Dandekar",
      "userId": "12136019235932552125"
     },
     "user_tz": -330
    },
    "id": "dmkjKoakFCob",
    "outputId": "6f000ff8-40dc-4155-e138-4ba105d48ede"
   },
   "outputs": [
    {
     "name": "stdout",
     "output_type": "stream",
     "text": [
      "The fuel efficiency is: 30 MPG\n",
      "The fuel efficiency is: 15 MPG\n"
     ]
    }
   ],
   "source": [
    "# Base class: Vehicle\n",
    "class Vehicle:\n",
    "    def __init__(self, fuel_capacity):\n",
    "        self.fuel_capacity = fuel_capacity\n",
    "\n",
    "    # Method to be overridden by derived classes\n",
    "    def fuel_efficiency(self):\n",
    "        pass\n",
    "\n",
    "# Derived class: Car\n",
    "class Car(Vehicle):\n",
    "    def __init__(self, fuel_capacity):\n",
    "        super().__init__(fuel_capacity)\n",
    "\n",
    "    # Override the fuel_efficiency method\n",
    "    def fuel_efficiency(self):\n",
    "        return 30  # Car fuel efficiency in miles per gallon (MPG)\n",
    "\n",
    "# Derived class: Truck\n",
    "class Truck(Vehicle):\n",
    "    def __init__(self, fuel_capacity):\n",
    "        super().__init__(fuel_capacity)\n",
    "\n",
    "    # Override the fuel_efficiency method\n",
    "    def fuel_efficiency(self):\n",
    "        return 15  # Truck fuel efficiency in miles per gallon (MPG)\n",
    "\n",
    "# Function to print fuel efficiency\n",
    "def print_fuel_efficiency(vehicle):\n",
    "    print(f\"The fuel efficiency is: {vehicle.fuel_efficiency()} MPG\")\n",
    "\n",
    "# Demonstrating polymorphism\n",
    "car = Car(15)  # Car with a fuel capacity of 15 gallons\n",
    "truck = Truck(20)  # Truck with a fuel capacity of 20 gallons\n",
    "\n",
    "print_fuel_efficiency(car)   # Should print the fuel efficiency for a car\n",
    "print_fuel_efficiency(truck) # Should print the fuel efficiency for a truck\n"
   ]
  }
 ],
 "metadata": {
  "colab": {
   "authorship_tag": "ABX9TyPQRn20Ec3DMvCYlAO4ZZ7d",
   "provenance": []
  },
  "kernelspec": {
   "display_name": "Python 3",
   "name": "python3"
  },
  "language_info": {
   "name": "python"
  }
 },
 "nbformat": 4,
 "nbformat_minor": 0
}
