{
 "cells": [
  {
   "cell_type": "markdown",
   "metadata": {
    "id": "Oo656Hn6sL8k"
   },
   "source": [
    "Data Analysis with Pandas"
   ]
  },
  {
   "cell_type": "markdown",
   "metadata": {
    "id": "cQo9o3K3sLd5"
   },
   "source": [
    "Explanation:\n",
    "\n",
    "Loading the CSV: The script uses pd.read_csv to load the CSV file into a DataFrame.\n",
    "\n",
    "Converting the Date: The Date column is converted to a datetime format using pd.to_datetime.\n",
    "\n",
    "Calculating Total Sales: A new column Total_Sales is created by multiplying the Quantity and Price columns.\n",
    "\n",
    "Finding the Product with Highest Sales: The script groups the data by 'Product', sums the 'Total_Sales', and then finds the product with the highest total sales using idxmax.\n",
    "\n",
    "Plotting the Bar Chart: Finally, it plots a bar chart of total sales for each product using Matplotlib.\n",
    "\n",
    "The bar chart shows the product names on the x-axis and total sales on the y-axis."
   ]
  }
 ],
 "metadata": {
  "colab": {
   "authorship_tag": "ABX9TyPah8YuWZZC/P4Ful9ba5c+",
   "provenance": []
  },
  "kernelspec": {
   "display_name": "Python 3",
   "name": "python3"
  },
  "language_info": {
   "name": "python"
  }
 },
 "nbformat": 4,
 "nbformat_minor": 0
}
