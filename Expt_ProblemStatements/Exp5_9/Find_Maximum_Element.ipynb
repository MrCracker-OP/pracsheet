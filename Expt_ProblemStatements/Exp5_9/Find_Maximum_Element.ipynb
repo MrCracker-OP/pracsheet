{
  "nbformat": 4,
  "nbformat_minor": 0,
  "metadata": {
    "colab": {
      "provenance": []
    },
    "kernelspec": {
      "name": "python3",
      "display_name": "Python 3"
    },
    "language_info": {
      "name": "python"
    }
  },
  "cells": [
    {
      "cell_type": "markdown",
      "source": [
        "max_position = np.unravel_index(np.argmax(matrix), matrix.shape)\n",
        "\n",
        "The line of code you provided is used to find the index of the maximum value in a NumPy array (referred to as matrix). Here's a breakdown of what each part does:\n",
        "\n",
        "np.argmax(matrix): This function finds the index of the maximum value in the flattened version of matrix.\n",
        "np.unravel_index(np.argmax(matrix), matrix.shape): This function converts the flattened index into a tuple of coordinate indices in the original shape of the matrix.\n",
        "The result, max_position, is a tuple representing the position of the maximum value in the original matrix."
      ],
      "metadata": {
        "id": "3FsRR2ntxieh"
      }
    },
    {
      "cell_type": "code",
      "execution_count": null,
      "metadata": {
        "colab": {
          "base_uri": "https://localhost:8080/"
        },
        "id": "vDDXF3YlvlwD",
        "outputId": "b59a2cd1-654a-4d00-d234-454eaad53412"
      },
      "outputs": [
        {
          "output_type": "stream",
          "name": "stdout",
          "text": [
            "Original 2D Array:\n",
            "[[10 22 35]\n",
            " [44 55 66]\n",
            " [77 88 99]]\n",
            "\n",
            "Maximum Element:\n",
            "99\n",
            "\n",
            "Position of Maximum Element (row, column):\n",
            "(2, 2)\n"
          ]
        }
      ],
      "source": [
        "import numpy as np\n",
        "\n",
        "# Create a 2D array (matrix) using NumPy\n",
        "matrix = np.array([\n",
        "    [10, 22, 35],\n",
        "    [44, 55, 66],\n",
        "    [77, 88, 99]\n",
        "])\n",
        "\n",
        "# Find the maximum element in the array\n",
        "max_element = np.max(matrix)\n",
        "\n",
        "# Find the position (row and column index) of the maximum element\n",
        "max_position = np.unravel_index(np.argmax(matrix), matrix.shape)\n",
        "\n",
        "# Display the maximum element and its position\n",
        "print(\"Original 2D Array:\")\n",
        "print(matrix)\n",
        "\n",
        "print(\"\\nMaximum Element:\")\n",
        "print(max_element)\n",
        "\n",
        "print(\"\\nPosition of Maximum Element (row, column):\")\n",
        "print(max_position)\n"
      ]
    }
  ]
}