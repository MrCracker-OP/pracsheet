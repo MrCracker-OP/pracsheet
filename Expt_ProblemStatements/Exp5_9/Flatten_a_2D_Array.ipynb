{
  "nbformat": 4,
  "nbformat_minor": 0,
  "metadata": {
    "colab": {
      "provenance": []
    },
    "kernelspec": {
      "name": "python3",
      "display_name": "Python 3"
    },
    "language_info": {
      "name": "python"
    }
  },
  "cells": [
    {
      "cell_type": "code",
      "execution_count": null,
      "metadata": {
        "colab": {
          "base_uri": "https://localhost:8080/"
        },
        "id": "2godSCZTuFOR",
        "outputId": "d22d8292-ef87-4d97-8111-837dd611af18"
      },
      "outputs": [
        {
          "output_type": "stream",
          "name": "stdout",
          "text": [
            "Original 2D Array:\n",
            "[[1 2 3]\n",
            " [4 5 6]\n",
            " [7 8 9]]\n",
            "\n",
            "Flattened 1D Array:\n",
            "[1 2 3 4 5 6 7 8 9]\n"
          ]
        }
      ],
      "source": [
        "import numpy as np\n",
        "\n",
        "# Create a 2D array using NumPy\n",
        "matrix = np.array([\n",
        "    [1, 2, 3],\n",
        "    [4, 5, 6],\n",
        "    [7, 8, 9]\n",
        "])\n",
        "\n",
        "# Flatten the 2D array into a 1D array\n",
        "flattened_array = matrix.flatten()\n",
        "\n",
        "# Alternatively, you can use the .ravel() method\n",
        "# flattened_array = matrix.ravel()\n",
        "\n",
        "# Display the original 2D array and the resulting 1D array\n",
        "print(\"Original 2D Array:\")\n",
        "print(matrix)\n",
        "\n",
        "print(\"\\nFlattened 1D Array:\")\n",
        "print(flattened_array)\n"
      ]
    }
  ]
}