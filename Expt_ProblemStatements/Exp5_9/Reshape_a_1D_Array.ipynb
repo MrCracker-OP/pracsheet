{
  "nbformat": 4,
  "nbformat_minor": 0,
  "metadata": {
    "colab": {
      "provenance": []
    },
    "kernelspec": {
      "name": "python3",
      "display_name": "Python 3"
    },
    "language_info": {
      "name": "python"
    }
  },
  "cells": [
    {
      "cell_type": "code",
      "execution_count": null,
      "metadata": {
        "colab": {
          "base_uri": "https://localhost:8080/"
        },
        "id": "2C2RInlkz01N",
        "outputId": "bf5259b2-d319-42b6-c94a-a916081c703d"
      },
      "outputs": [
        {
          "output_type": "stream",
          "name": "stdout",
          "text": [
            "Original 1D Array:\n",
            "[ 0  1  2  3  4  5  6  7  8  9 10 11]\n",
            "\n",
            "Reshaped 2D Array:\n",
            "[[ 0  1  2  3]\n",
            " [ 4  5  6  7]\n",
            " [ 8  9 10 11]]\n"
          ]
        }
      ],
      "source": [
        "import numpy as np\n",
        "\n",
        "# Create a 1D array with 12 elements\n",
        "array_1d = np.arange(12)\n",
        "\n",
        "# Define the number of rows and columns for the 2D array\n",
        "rows, cols = 3, 4\n",
        "\n",
        "# Reshape the 1D array into a 2D array with the specified number of rows and columns\n",
        "array_2d = array_1d.reshape((rows, cols))\n",
        "\n",
        "# Display the original 1D array and the reshaped 2D array\n",
        "print(\"Original 1D Array:\")\n",
        "print(array_1d)\n",
        "print(\"\\nReshaped 2D Array:\")\n",
        "print(array_2d)\n"
      ]
    }
  ]
}