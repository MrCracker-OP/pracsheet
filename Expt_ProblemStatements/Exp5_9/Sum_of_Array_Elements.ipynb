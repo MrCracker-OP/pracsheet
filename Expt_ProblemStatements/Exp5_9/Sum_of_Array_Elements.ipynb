{
  "nbformat": 4,
  "nbformat_minor": 0,
  "metadata": {
    "colab": {
      "provenance": []
    },
    "kernelspec": {
      "name": "python3",
      "display_name": "Python 3"
    },
    "language_info": {
      "name": "python"
    }
  },
  "cells": [
    {
      "cell_type": "code",
      "execution_count": null,
      "metadata": {
        "colab": {
          "base_uri": "https://localhost:8080/"
        },
        "id": "KV8FVQeIrNWQ",
        "outputId": "b6dd92e4-5969-4e18-fd21-98b65ddb4124"
      },
      "outputs": [
        {
          "output_type": "stream",
          "name": "stdout",
          "text": [
            "Array: [ 1  2  3  4  5  6  7  8  9 10]\n",
            "Sum of all elements: 55\n"
          ]
        }
      ],
      "source": [
        "import numpy as np\n",
        "\n",
        "# Create a 1D array of integers using NumPy\n",
        "array = np.array([1, 2, 3, 4, 5, 6, 7, 8, 9, 10])\n",
        "\n",
        "# Calculate the sum of all elements in the array\n",
        "total_sum = np.sum(array)\n",
        "\n",
        "# Display the result\n",
        "print(\"Array:\", array)\n",
        "print(\"Sum of all elements:\", total_sum)\n"
      ]
    }
  ]
}