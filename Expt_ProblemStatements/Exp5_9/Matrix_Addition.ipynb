{
  "nbformat": 4,
  "nbformat_minor": 0,
  "metadata": {
    "colab": {
      "provenance": []
    },
    "kernelspec": {
      "name": "python3",
      "display_name": "Python 3"
    },
    "language_info": {
      "name": "python"
    }
  },
  "cells": [
    {
      "cell_type": "markdown",
      "source": [
        "matrix1 = np.random.randint(0, 10, (rows, cols))\n",
        "\n",
        "Generate two random 3x3 matrices (matrix1 and matrix2) with values between 0 and 9."
      ],
      "metadata": {
        "id": "EPh0GpoQzcNq"
      }
    },
    {
      "cell_type": "code",
      "execution_count": null,
      "metadata": {
        "colab": {
          "base_uri": "https://localhost:8080/"
        },
        "id": "vXwXhJ0LyHPO",
        "outputId": "958eea64-f6e7-4899-816a-1f271b95d26d"
      },
      "outputs": [
        {
          "output_type": "stream",
          "name": "stdout",
          "text": [
            "Matrix 1:\n",
            "[[6 9 9]\n",
            " [4 2 5]\n",
            " [9 5 7]]\n",
            "\n",
            "Matrix 2:\n",
            "[[3 7 9]\n",
            " [2 1 9]\n",
            " [4 9 1]]\n",
            "\n",
            "Resulting Matrix after Addition:\n",
            "[[ 9 16 18]\n",
            " [ 6  3 14]\n",
            " [13 14  8]]\n"
          ]
        }
      ],
      "source": [
        "import numpy as np\n",
        "\n",
        "# Define the size of the matrices\n",
        "rows, cols = 3, 3\n",
        "\n",
        "# Create two 2D arrays (matrices) of the same size with random integers\n",
        "matrix1 = np.random.randint(0, 10, (rows, cols))\n",
        "matrix2 = np.random.randint(0, 10, (rows, cols))\n",
        "\n",
        "# Perform element-wise addition of the two matrices\n",
        "result_matrix = np.add(matrix1, matrix2)\n",
        "\n",
        "# Display the matrices and the result\n",
        "print(\"Matrix 1:\")\n",
        "print(matrix1)\n",
        "print(\"\\nMatrix 2:\")\n",
        "print(matrix2)\n",
        "print(\"\\nResulting Matrix after Addition:\")\n",
        "print(result_matrix)\n"
      ]
    }
  ]
}