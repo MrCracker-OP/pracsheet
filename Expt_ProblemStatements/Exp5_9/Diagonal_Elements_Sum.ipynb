{
  "nbformat": 4,
  "nbformat_minor": 0,
  "metadata": {
    "colab": {
      "provenance": []
    },
    "kernelspec": {
      "name": "python3",
      "display_name": "Python 3"
    },
    "language_info": {
      "name": "python"
    }
  },
  "cells": [
    {
      "cell_type": "code",
      "execution_count": null,
      "metadata": {
        "colab": {
          "base_uri": "https://localhost:8080/"
        },
        "id": "2_ie89LVthvy",
        "outputId": "19ae49df-0d21-47e6-ffa0-d750e0097d9e"
      },
      "outputs": [
        {
          "output_type": "stream",
          "name": "stdout",
          "text": [
            "Matrix:\n",
            "[[1 2 3]\n",
            " [4 5 6]\n",
            " [7 8 9]]\n",
            "\n",
            "Sum of the diagonal elements:\n",
            "15\n"
          ]
        }
      ],
      "source": [
        "import numpy as np\n",
        "\n",
        "# Create a square 2D array (matrix) using NumPy\n",
        "matrix = np.array([\n",
        "    [1, 2, 3],\n",
        "    [4, 5, 6],\n",
        "    [7, 8, 9]\n",
        "])\n",
        "\n",
        "# Calculate the sum of the elements on the main diagonal\n",
        "diagonal_sum = np.trace(matrix)\n",
        "\n",
        "# Display the sum of the diagonal elements\n",
        "print(\"Matrix:\")\n",
        "print(matrix)\n",
        "\n",
        "print(\"\\nSum of the diagonal elements:\")\n",
        "print(diagonal_sum)\n"
      ]
    }
  ]
}