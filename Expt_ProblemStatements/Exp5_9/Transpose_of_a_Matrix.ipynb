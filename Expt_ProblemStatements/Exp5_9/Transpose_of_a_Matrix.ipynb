{
  "nbformat": 4,
  "nbformat_minor": 0,
  "metadata": {
    "colab": {
      "provenance": []
    },
    "kernelspec": {
      "name": "python3",
      "display_name": "Python 3"
    },
    "language_info": {
      "name": "python"
    }
  },
  "cells": [
    {
      "cell_type": "code",
      "execution_count": null,
      "metadata": {
        "colab": {
          "base_uri": "https://localhost:8080/"
        },
        "id": "Yzv5gs5es2Kx",
        "outputId": "76288a69-6463-46c0-f692-11cfcee6af36"
      },
      "outputs": [
        {
          "output_type": "stream",
          "name": "stdout",
          "text": [
            "Original Matrix:\n",
            "[[1 2 3]\n",
            " [4 5 6]\n",
            " [7 8 9]]\n",
            "\n",
            "Transposed Matrix:\n",
            "[[1 4 7]\n",
            " [2 5 8]\n",
            " [3 6 9]]\n"
          ]
        }
      ],
      "source": [
        "import numpy as np\n",
        "\n",
        "# Create a 2D array (matrix) using NumPy\n",
        "matrix = np.array([\n",
        "    [1, 2, 3],\n",
        "    [4, 5, 6],\n",
        "    [7, 8, 9]\n",
        "])\n",
        "\n",
        "# Calculate the transpose of the matrix\n",
        "transpose = np.transpose(matrix)\n",
        "\n",
        "# Alternatively, you can use the .T attribute\n",
        "# transpose = matrix.T\n",
        "\n",
        "# Display the original and transposed matrices\n",
        "print(\"Original Matrix:\")\n",
        "print(matrix)\n",
        "\n",
        "print(\"\\nTransposed Matrix:\")\n",
        "print(transpose)\n"
      ]
    }
  ]
}