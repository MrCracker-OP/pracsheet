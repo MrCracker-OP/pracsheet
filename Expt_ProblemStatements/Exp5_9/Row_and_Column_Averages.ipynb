{
  "nbformat": 4,
  "nbformat_minor": 0,
  "metadata": {
    "colab": {
      "provenance": []
    },
    "kernelspec": {
      "name": "python3",
      "display_name": "Python 3"
    },
    "language_info": {
      "name": "python"
    }
  },
  "cells": [
    {
      "cell_type": "code",
      "execution_count": null,
      "metadata": {
        "colab": {
          "base_uri": "https://localhost:8080/"
        },
        "id": "83trIHQuujuX",
        "outputId": "6d511c6b-0634-43d4-9a24-7cedf6fb84fd"
      },
      "outputs": [
        {
          "output_type": "stream",
          "name": "stdout",
          "text": [
            "Original 2D Array:\n",
            "[[10 20 30]\n",
            " [40 50 60]\n",
            " [70 80 90]]\n",
            "\n",
            "Average of each row:\n",
            "[20. 50. 80.]\n",
            "\n",
            "Average of each column:\n",
            "[40. 50. 60.]\n"
          ]
        }
      ],
      "source": [
        "import numpy as np\n",
        "\n",
        "# Create a 2D array (matrix) using NumPy\n",
        "matrix = np.array([\n",
        "    [10, 20, 30],\n",
        "    [40, 50, 60],\n",
        "    [70, 80, 90]\n",
        "])\n",
        "\n",
        "# Calculate the average of each row\n",
        "row_averages = np.mean(matrix, axis=1)\n",
        "\n",
        "# Calculate the average of each column\n",
        "column_averages = np.mean(matrix, axis=0)\n",
        "\n",
        "# Display the original 2D array\n",
        "print(\"Original 2D Array:\")\n",
        "print(matrix)\n",
        "\n",
        "# Display the row averages\n",
        "print(\"\\nAverage of each row:\")\n",
        "print(row_averages)\n",
        "\n",
        "# Display the column averages\n",
        "print(\"\\nAverage of each column:\")\n",
        "print(column_averages)\n"
      ]
    }
  ]
}