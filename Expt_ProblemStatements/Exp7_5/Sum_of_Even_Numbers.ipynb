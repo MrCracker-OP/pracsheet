{
  "nbformat": 4,
  "nbformat_minor": 0,
  "metadata": {
    "colab": {
      "provenance": []
    },
    "kernelspec": {
      "name": "python3",
      "display_name": "Python 3"
    },
    "language_info": {
      "name": "python"
    }
  },
  "cells": [
    {
      "cell_type": "markdown",
      "source": [
        "Sum of Even Numbers\n",
        "\n",
        "Explanation:\n",
        "Input List: The program reads a list of integers from the user.\n",
        "Filter Even Numbers: The filter() function is used with a lambda function to retain only even numbers from the list.\n",
        "Sum of Even Numbers: The reduce() function is used with a lambda function to accumulate the sum of the filtered even numbers. The 0 is the initial value for the accumulator.\n",
        "Display Result: Finally, the program prints the sum of all even numbers."
      ],
      "metadata": {
        "id": "nfRlf7lyzGxR"
      }
    },
    {
      "cell_type": "code",
      "execution_count": null,
      "metadata": {
        "colab": {
          "base_uri": "https://localhost:8080/"
        },
        "id": "Jn4_YgwsyEqQ",
        "outputId": "533fb9e8-8dab-4d04-c060-0ddbb0dee498"
      },
      "outputs": [
        {
          "output_type": "stream",
          "name": "stdout",
          "text": [
            "Enter a list of integers separated by spaces: 2 8 4 9 12 17\n",
            "Sum of all even numbers: 26\n"
          ]
        }
      ],
      "source": [
        "from functools import reduce\n",
        "\n",
        "# Input list of integers\n",
        "numbers = [int(x) for x in input(\"Enter a list of integers separated by spaces: \").split()]\n",
        "\n",
        "# Filter even numbers using filter() and lambda\n",
        "even_numbers = filter(lambda x: x % 2 == 0, numbers)\n",
        "\n",
        "# Calculate the sum of even numbers using reduce() and lambda\n",
        "sum_even_numbers = reduce(lambda acc, x: acc + x, even_numbers, 0)\n",
        "\n",
        "# Display the resulting sum\n",
        "print(\"Sum of all even numbers:\", sum_even_numbers)\n"
      ]
    }
  ]
}