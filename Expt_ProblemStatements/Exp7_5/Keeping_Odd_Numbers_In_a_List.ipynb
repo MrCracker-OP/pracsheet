{
  "nbformat": 4,
  "nbformat_minor": 0,
  "metadata": {
    "colab": {
      "provenance": []
    },
    "kernelspec": {
      "name": "python3",
      "display_name": "Python 3"
    },
    "language_info": {
      "name": "python"
    }
  },
  "cells": [
    {
      "cell_type": "markdown",
      "source": [
        "Keeping Only ODD Numbers in a list"
      ],
      "metadata": {
        "id": "DtlXKImygesi"
      }
    },
    {
      "cell_type": "code",
      "execution_count": null,
      "metadata": {
        "colab": {
          "base_uri": "https://localhost:8080/"
        },
        "id": "tZGY2oUFgeJx",
        "outputId": "e115e8e4-393a-41c3-f970-1762f7f4757d"
      },
      "outputs": [
        {
          "output_type": "stream",
          "name": "stdout",
          "text": [
            "Enter a list of integers separated by spaces: 2 4 5 7 6 12 17\n",
            "List of odd numbers: [5, 7, 17]\n"
          ]
        }
      ],
      "source": [
        "def filter_odd_numbers(numbers):\n",
        "    # Use filter() with lambda to keep only odd numbers\n",
        "    odd_numbers = filter(lambda x: x % 2 != 0, numbers)\n",
        "    # Convert the filter object to a list\n",
        "    return list(odd_numbers)\n",
        "\n",
        "# Main function to execute the program\n",
        "def main():\n",
        "    # Take a list of integers as input from the user\n",
        "    input_list = input(\"Enter a list of integers separated by spaces: \")\n",
        "    # Convert the input string to a list of integers\n",
        "    numbers = list(map(int, input_list.split()))\n",
        "\n",
        "    # Get the filtered list of odd numbers\n",
        "    result = filter_odd_numbers(numbers)\n",
        "\n",
        "    # Display the resulting list of odd numbers\n",
        "    print(\"List of odd numbers:\", result)\n",
        "\n",
        "# Run the main function\n",
        "if __name__ == \"__main__\":\n",
        "    main()\n"
      ]
    }
  ]
}