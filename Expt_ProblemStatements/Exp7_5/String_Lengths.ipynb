{
 "cells": [
  {
   "cell_type": "markdown",
   "metadata": {
    "id": "5VoVCSei3Jg-"
   },
   "source": [
    "String Lengths"
   ]
  },
  {
   "cell_type": "markdown",
   "metadata": {
    "id": "4LDuqmVF3JaO"
   },
   "source": [
    "Explanation:\n",
    "\n",
    "strings: This is the input list of strings.\n",
    "\n",
    "map(lambda s: len(s), strings): The map() function applies the lambda function to each element in the list. The lambda function lambda s: len(s) computes the length of each string s.\n",
    "\n",
    "list(): Converts the map object to a list.\n",
    "\n",
    "print(lengths): Displays the resulting list of lengths.\n"
   ]
  },
  {
   "cell_type": "code",
   "execution_count": null,
   "metadata": {
    "colab": {
     "base_uri": "https://localhost:8080/"
    },
    "id": "sLV7mzVo3GsB",
    "outputId": "8c566e7c-a28e-4ddd-80c7-083e9f9e9aee"
   },
   "outputs": [
    {
     "name": "stdout",
     "output_type": "stream",
     "text": [
      "[5, 6, 6, 4]\n"
     ]
    }
   ],
   "source": [
    "# Define a list of strings\n",
    "strings = [\"apple\", \"banana\", \"cherry\", \"date\"]\n",
    "\n",
    "# Calculate the length of each string using map() and lambda\n",
    "lengths = list(map(lambda s: len(s), strings))\n",
    "\n",
    "# Display the resulting list of lengths\n",
    "print(lengths)\n"
   ]
  }
 ],
 "metadata": {
  "colab": {
   "provenance": []
  },
  "kernelspec": {
   "display_name": "Python 3",
   "name": "python3"
  },
  "language_info": {
   "name": "python"
  }
 },
 "nbformat": 4,
 "nbformat_minor": 0
}
