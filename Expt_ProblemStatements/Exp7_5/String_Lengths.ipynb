{
  "nbformat": 4,
  "nbformat_minor": 0,
  "metadata": {
    "colab": {
      "provenance": []
    },
    "kernelspec": {
      "name": "python3",
      "display_name": "Python 3"
    },
    "language_info": {
      "name": "python"
    }
  },
  "cells": [
    {
      "cell_type": "markdown",
      "source": [
        "String Lengths"
      ],
      "metadata": {
        "id": "5VoVCSei3Jg-"
      }
    },
    {
      "cell_type": "markdown",
      "source": [
        "Explanation:\n",
        "\n",
        "strings: This is the input list of strings.\n",
        "\n",
        "map(lambda s: len(s), strings): The map() function applies the lambda function to each element in the list. The lambda function lambda s: len(s) computes the length of each string s.\n",
        "\n",
        "list(): Converts the map object to a list.\n",
        "\n",
        "print(lengths): Displays the resulting list of lengths.\n"
      ],
      "metadata": {
        "id": "4LDuqmVF3JaO"
      }
    },
    {
      "cell_type": "code",
      "execution_count": null,
      "metadata": {
        "colab": {
          "base_uri": "https://localhost:8080/"
        },
        "id": "sLV7mzVo3GsB",
        "outputId": "8c566e7c-a28e-4ddd-80c7-083e9f9e9aee"
      },
      "outputs": [
        {
          "output_type": "stream",
          "name": "stdout",
          "text": [
            "[5, 6, 6, 4]\n"
          ]
        }
      ],
      "source": [
        "# Define a list of strings\n",
        "strings = [\"apple\", \"banana\", \"cherry\", \"date\"]\n",
        "\n",
        "# Calculate the length of each string using map() and lambda\n",
        "lengths = list(map(lambda s: len(s), strings))\n",
        "\n",
        "# Display the resulting list of lengths\n",
        "print(lengths)\n"
      ]
    }
  ]
}