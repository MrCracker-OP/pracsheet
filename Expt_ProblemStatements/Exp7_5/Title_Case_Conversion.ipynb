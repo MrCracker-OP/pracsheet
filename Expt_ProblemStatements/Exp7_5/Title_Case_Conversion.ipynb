{
  "nbformat": 4,
  "nbformat_minor": 0,
  "metadata": {
    "colab": {
      "provenance": []
    },
    "kernelspec": {
      "name": "python3",
      "display_name": "Python 3"
    },
    "language_info": {
      "name": "python"
    }
  },
  "cells": [
    {
      "cell_type": "markdown",
      "source": [
        "Title Case Conversion"
      ],
      "metadata": {
        "id": "cG58i04d1Dkq"
      }
    },
    {
      "cell_type": "markdown",
      "source": [
        "Explanation:\n",
        "\n",
        "strings: This is the input list of strings you want to convert.\n",
        "\n",
        "map(lambda s: s.title(), strings): The map() function applies the lambda\n",
        "function to each element in the list. The lambda function lambda s: s.title() converts each string s to title case.\n",
        "\n",
        "list(): Converts the map object back to a list.\n",
        "\n",
        "print(title_cased_strings): Displays the resulting list of title-cased strings."
      ],
      "metadata": {
        "id": "89AIuN1W1bg9"
      }
    },
    {
      "cell_type": "code",
      "execution_count": null,
      "metadata": {
        "colab": {
          "base_uri": "https://localhost:8080/"
        },
        "id": "hBynnAlW0HyW",
        "outputId": "ba40cf2c-3bfe-46c3-b01a-be2a6a1daca6"
      },
      "outputs": [
        {
          "output_type": "stream",
          "name": "stdout",
          "text": [
            "['Hello World', 'Python Programming', 'Map And Lambda']\n"
          ]
        }
      ],
      "source": [
        "# Define a list of strings\n",
        "strings = [\"hello world\", \"python programming\", \"map and lambda\"]\n",
        "\n",
        "# Convert each string to title case using map() and lambda\n",
        "title_cased_strings = list(map(lambda s: s.title(), strings))\n",
        "\n",
        "# Display the resulting list of title-cased strings\n",
        "print(title_cased_strings)\n"
      ]
    }
  ]
}