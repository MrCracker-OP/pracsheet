{
 "cells": [
  {
   "cell_type": "markdown",
   "metadata": {
    "id": "e1RCWCfV2WkI"
   },
   "source": [
    "Combining Lists Element-wise"
   ]
  },
  {
   "cell_type": "markdown",
   "metadata": {
    "id": "vQmWYtg42Wre"
   },
   "source": [
    "Explanation:\n",
    "\n",
    "list1 and list2: These are the two input lists of equal length that you want to combine.\n",
    "\n",
    "map(lambda x, y: (x, y), list1, list2): The map() function applies the lambda function to pairs of elements from list1 and list2. The lambda function lambda x, y: (x, y) creates a tuple from each pair of elements.\n",
    "\n",
    "list(): Converts the map object back to a list.\n",
    "\n",
    "print(combined_list): Displays the resulting list of tuples."
   ]
  },
  {
   "cell_type": "code",
   "execution_count": null,
   "metadata": {
    "colab": {
     "base_uri": "https://localhost:8080/"
    },
    "id": "-4Ivc5l-2WKH",
    "outputId": "9e421c0f-a4af-43f7-96de-59ec87a75b7b"
   },
   "outputs": [
    {
     "name": "stdout",
     "output_type": "stream",
     "text": [
      "[(1, 'a'), (2, 'b'), (3, 'c'), (4, 'd')]\n"
     ]
    }
   ],
   "source": [
    "# Define two lists of equal length\n",
    "list1 = [1, 2, 3, 4]\n",
    "list2 = ['a', 'b', 'c', 'd']\n",
    "\n",
    "# Combine the lists element-wise into a list of tuples using map() and lambda\n",
    "combined_list = list(map(lambda x, y: (x, y), list1, list2))\n",
    "\n",
    "# Display the resulting list of tuples\n",
    "print(combined_list)\n"
   ]
  }
 ],
 "metadata": {
  "colab": {
   "provenance": []
  },
  "kernelspec": {
   "display_name": "Python 3",
   "name": "python3"
  },
  "language_info": {
   "name": "python"
  }
 },
 "nbformat": 4,
 "nbformat_minor": 0
}
