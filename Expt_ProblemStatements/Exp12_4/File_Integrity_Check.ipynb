{
 "cells": [
  {
   "cell_type": "code",
   "execution_count": null,
   "metadata": {
    "colab": {
     "base_uri": "https://localhost:8080/"
    },
    "id": "mFcobu7K3R8N",
    "outputId": "fbe3aefd-42d3-4903-d32b-48e821405b0a"
   },
   "outputs": [
    {
     "name": "stdout",
     "output_type": "stream",
     "text": [
      "File contains valid content.\n"
     ]
    }
   ],
   "source": [
    "def check_file_integrity(file_path):\n",
    "    try:\n",
    "        # Attempt to open and read the file\n",
    "        with open(file_path, 'r') as file:\n",
    "            content = file.read()\n",
    "\n",
    "            # Check if the file is empty\n",
    "            if not content:\n",
    "                return \"Error: File is empty.\"\n",
    "\n",
    "            # If the file has content, return success message\n",
    "            return \"File contains valid content.\"\n",
    "\n",
    "    except FileNotFoundError:\n",
    "        return \"Error: File not found.\"\n",
    "\n",
    "    except IOError as e:\n",
    "        return f\"Error: I/O error occurred - {str(e)}\"\n",
    "\n",
    "    except Exception as e:\n",
    "        return f\"Error: An unexpected error occurred - {str(e)}\"\n",
    "\n",
    "# Example usage\n",
    "file_path = '/content/Data.csv'\n",
    "print(check_file_integrity(file_path))\n"
   ]
  }
 ],
 "metadata": {
  "colab": {
   "provenance": []
  },
  "kernelspec": {
   "display_name": "Python 3",
   "name": "python3"
  },
  "language_info": {
   "name": "python"
  }
 },
 "nbformat": 4,
 "nbformat_minor": 0
}
