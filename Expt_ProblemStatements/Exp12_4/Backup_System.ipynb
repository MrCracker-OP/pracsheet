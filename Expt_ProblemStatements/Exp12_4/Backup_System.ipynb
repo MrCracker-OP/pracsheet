{
 "cells": [
  {
   "cell_type": "code",
   "execution_count": null,
   "metadata": {
    "colab": {
     "base_uri": "https://localhost:8080/"
    },
    "id": "-aeAlVoA02IR",
    "outputId": "db35ac83-e4db-4334-c49a-90f256f5cc17"
   },
   "outputs": [
    {
     "name": "stdout",
     "output_type": "stream",
     "text": [
      "Backup created successfully.\n"
     ]
    }
   ],
   "source": [
    "import shutil\n",
    "import os\n",
    "\n",
    "def backup_file(source_file, backup_file):\n",
    "    try:\n",
    "        # Check if source file exists\n",
    "        if not os.path.isfile(source_file):\n",
    "            return \"Error: Source file not found.\"\n",
    "\n",
    "        # Attempt to copy the file\n",
    "        shutil.copy2(source_file, backup_file)\n",
    "        return \"Backup created successfully.\"\n",
    "\n",
    "    except PermissionError:\n",
    "        return \"Error: Permission denied.\"\n",
    "\n",
    "    except IOError as e:\n",
    "        return f\"Error: I/O error occurred - {str(e)}\"\n",
    "\n",
    "    except Exception as e:\n",
    "        return f\"Error: An unexpected error occurred - {str(e)}\"\n",
    "\n",
    "# Example usage\n",
    "source = '/content/Data_source.csv'\n",
    "backup = '/content/Data_backup.csv'\n",
    "print(backup_file(source, backup))\n"
   ]
  }
 ],
 "metadata": {
  "colab": {
   "provenance": []
  },
  "kernelspec": {
   "display_name": "Python 3",
   "name": "python3"
  },
  "language_info": {
   "name": "python"
  }
 },
 "nbformat": 4,
 "nbformat_minor": 0
}
