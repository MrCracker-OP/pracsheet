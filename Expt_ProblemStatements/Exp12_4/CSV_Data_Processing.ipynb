{
  "nbformat": 4,
  "nbformat_minor": 0,
  "metadata": {
    "colab": {
      "provenance": []
    },
    "kernelspec": {
      "name": "python3",
      "display_name": "Python 3"
    },
    "language_info": {
      "name": "python"
    }
  },
  "cells": [
    {
      "cell_type": "code",
      "execution_count": null,
      "metadata": {
        "id": "BLPkDaTUx_5t"
      },
      "outputs": [],
      "source": [
        "import csv\n",
        "\n",
        "def process_csv(file_path):\n",
        "    result = {}\n",
        "    try:\n",
        "        with open(file_path, 'r') as file:\n",
        "            reader = csv.reader(file)\n",
        "            header = next(reader, None)  # Skip header if present\n",
        "            if not header or len(header) < 2:\n",
        "                raise ValueError(\"CSV file must have at least two columns.\")\n",
        "\n",
        "            values = []\n",
        "            for row in reader:\n",
        "                if len(row) < 2:\n",
        "                    continue  # Skip rows with fewer than 2 columns\n",
        "                try:\n",
        "                    value = float(row[1])  # Convert second column to float\n",
        "                    values.append(value)\n",
        "                except ValueError:\n",
        "                    continue  # Skip rows where the second column is not a number\n",
        "\n",
        "            if not values:\n",
        "                raise ValueError(\"No valid numerical data found in the second column.\")\n",
        "\n",
        "            average_value = sum(values) / len(values)\n",
        "            result['average'] = average_value\n",
        "    except FileNotFoundError:\n",
        "        result['error'] = 'File not found.'\n",
        "    except ValueError as ve:\n",
        "        result['error'] = str(ve)\n",
        "    except IOError:\n",
        "        result['error'] = 'Error reading file.'\n",
        "    except Exception as e:\n",
        "        result['error'] = str(e)\n",
        "\n",
        "    return result\n"
      ]
    },
    {
      "cell_type": "code",
      "source": [
        "process_csv('/content/Data.csv')"
      ],
      "metadata": {
        "colab": {
          "base_uri": "https://localhost:8080/"
        },
        "id": "BhCfF_7eyDiJ",
        "outputId": "355877fe-de1e-4892-f063-c87bcade0c50"
      },
      "execution_count": null,
      "outputs": [
        {
          "output_type": "execute_result",
          "data": {
            "text/plain": [
              "{'average': 1.5}"
            ]
          },
          "metadata": {},
          "execution_count": 2
        }
      ]
    },
    {
      "cell_type": "code",
      "source": [
        "process_csv('/content/Data1.csv')"
      ],
      "metadata": {
        "colab": {
          "base_uri": "https://localhost:8080/"
        },
        "id": "8ZjWg3o7y442",
        "outputId": "bbec9c71-2c84-4a1c-8142-66523811ac25"
      },
      "execution_count": null,
      "outputs": [
        {
          "output_type": "execute_result",
          "data": {
            "text/plain": [
              "{'error': 'CSV file must have at least two columns.'}"
            ]
          },
          "metadata": {},
          "execution_count": 5
        }
      ]
    },
    {
      "cell_type": "code",
      "source": [
        "process_csv('/content/Data.pdf')"
      ],
      "metadata": {
        "colab": {
          "base_uri": "https://localhost:8080/"
        },
        "id": "qe3bZu2czy5m",
        "outputId": "d0fbd3b7-30cb-4f11-d11e-4158b6e46b83"
      },
      "execution_count": null,
      "outputs": [
        {
          "output_type": "execute_result",
          "data": {
            "text/plain": [
              "{'error': 'File not found.'}"
            ]
          },
          "metadata": {},
          "execution_count": 7
        }
      ]
    }
  ]
}