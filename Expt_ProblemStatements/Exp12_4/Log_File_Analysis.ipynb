{
 "cells": [
  {
   "cell_type": "code",
   "execution_count": null,
   "metadata": {
    "id": "vBOVk3EUrCby"
   },
   "outputs": [],
   "source": [
    "def analyze_log_file(file_path):\n",
    "    result = {}\n",
    "    try:\n",
    "        with open(file_path, 'r') as file:\n",
    "            lines = file.readlines()\n",
    "            total_lines = len(lines)\n",
    "            error_count = sum(line.count(\"ERROR\") for line in lines)\n",
    "\n",
    "            result['total_lines'] = total_lines\n",
    "            result['error_count'] = error_count\n",
    "    except FileNotFoundError:\n",
    "        result['error'] = 'File not found.'\n",
    "    except IOError:\n",
    "        result['error'] = 'Error reading file.'\n",
    "    except Exception as e:\n",
    "        result['error'] = str(e)\n",
    "\n",
    "    return result\n"
   ]
  },
  {
   "cell_type": "code",
   "execution_count": null,
   "metadata": {
    "colab": {
     "base_uri": "https://localhost:8080/"
    },
    "id": "quJy36jXtZ4N",
    "outputId": "b607b70c-85f7-42b5-db9c-243853fc6da0"
   },
   "outputs": [
    {
     "data": {
      "text/plain": [
       "{'error': 'File not found.'}"
      ]
     },
     "execution_count": 10,
     "metadata": {},
     "output_type": "execute_result"
    }
   ],
   "source": [
    "analyze_log_file('/content/Data.csv')"
   ]
  },
  {
   "cell_type": "code",
   "execution_count": null,
   "metadata": {
    "colab": {
     "base_uri": "https://localhost:8080/"
    },
    "id": "xs-PFyzctZ91",
    "outputId": "ea18a743-f2fc-4a7b-8dd0-eb8216da87a7"
   },
   "outputs": [
    {
     "data": {
      "text/plain": [
       "{'error': \"'utf-8' codec can't decode byte 0xb5 in position 11: invalid start byte\"}"
      ]
     },
     "execution_count": 12,
     "metadata": {},
     "output_type": "execute_result"
    }
   ],
   "source": [
    "analyze_log_file('/content/Data.pdf')"
   ]
  }
 ],
 "metadata": {
  "colab": {
   "provenance": []
  },
  "kernelspec": {
   "display_name": "Python 3",
   "name": "python3"
  },
  "language_info": {
   "name": "python"
  }
 },
 "nbformat": 4,
 "nbformat_minor": 0
}
